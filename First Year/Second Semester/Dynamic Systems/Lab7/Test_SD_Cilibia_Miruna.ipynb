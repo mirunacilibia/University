{
 "cells": [
  {
   "cell_type": "code",
   "execution_count": null,
   "metadata": {},
   "outputs": [],
   "source": [
    "# Cilibia Miruna-Maria"
   ]
  },
  {
   "cell_type": "code",
   "execution_count": 47,
   "metadata": {},
   "outputs": [
    {
     "data": {
      "text/html": [
       "<html><script type=\"math/tex; mode=display\">\\newcommand{\\Bold}[1]{\\mathbf{#1}}\\left( t, k, x_{0} \\right) \\ {\\mapsto} \\ x_{0} e^{\\left(-k t\\right)}</script></html>"
      ],
      "text/latex": [
       "\\begin{math}\n",
       "\\newcommand{\\Bold}[1]{\\mathbf{#1}}\\left( t, k, x_{0} \\right) \\ {\\mapsto} \\ x_{0} e^{\\left(-k t\\right)}\n",
       "\\end{math}"
      ],
      "text/plain": [
       "(t, k, x0) |--> x0*e^(-k*t)"
      ]
     },
     "metadata": {},
     "output_type": "display_data"
    }
   ],
   "source": [
    "# Exercitiul 1\n",
    "# a)\n",
    "\n",
    "reset()\n",
    "t = var('t')\n",
    "x = function('x')(t)\n",
    "k,x0 = var('k,x0')\n",
    "\n",
    "eqd = diff(x, t) == -k * x\n",
    "sol(t, k, x0) = desolve(eqd, [x, t], ics = [0, x0])\n",
    "show(sol)\n"
   ]
  },
  {
   "cell_type": "code",
   "execution_count": 50,
   "metadata": {},
   "outputs": [
    {
     "data": {
      "text/html": [
       "<html><script type=\"math/tex; mode=display\">\\newcommand{\\Bold}[1]{\\mathbf{#1}}\\left[k = \\frac{\\log\\left(2\\right)}{t_{12}}\\right]</script></html>"
      ],
      "text/latex": [
       "\\begin{math}\n",
       "\\newcommand{\\Bold}[1]{\\mathbf{#1}}\\left[k = \\frac{\\log\\left(2\\right)}{t_{12}}\\right]\n",
       "\\end{math}"
      ],
      "text/plain": [
       "[k == log(2)/t12]"
      ]
     },
     "metadata": {},
     "output_type": "display_data"
    },
    {
     "data": {
      "text/html": [
       "<html><script type=\"math/tex; mode=display\">\\newcommand{\\Bold}[1]{\\mathbf{#1}}\\frac{1}{1602} \\, \\log\\left(2\\right)</script></html>"
      ],
      "text/latex": [
       "\\begin{math}\n",
       "\\newcommand{\\Bold}[1]{\\mathbf{#1}}\\frac{1}{1602} \\, \\log\\left(2\\right)\n",
       "\\end{math}"
      ],
      "text/plain": [
       "1/1602*log(2)"
      ]
     },
     "metadata": {},
     "output_type": "display_data"
    }
   ],
   "source": [
    "# b)\n",
    "\n",
    "t12 = var('t12')\n",
    "eqd2 = sol(t12, k, x0) == x0 / 2\n",
    "sol2 = solve(eqd2, k)\n",
    "show(sol2)\n",
    "kk(t12) = sol2[0].rhs()\n",
    "show(kk(1602))"
   ]
  },
  {
   "cell_type": "code",
   "execution_count": 12,
   "metadata": {},
   "outputs": [
    {
     "data": {
      "text/html": [
       "<html><script type=\"math/tex; mode=display\">\\newcommand{\\Bold}[1]{\\mathbf{#1}}K_{1} x + \\frac{K_{2}}{x^{2}}</script></html>"
      ],
      "text/latex": [
       "\\begin{math}\n",
       "\\newcommand{\\Bold}[1]{\\mathbf{#1}}K_{1} x + \\frac{K_{2}}{x^{2}}\n",
       "\\end{math}"
      ],
      "text/plain": [
       "_K1*x + _K2/x^2"
      ]
     },
     "metadata": {},
     "output_type": "display_data"
    }
   ],
   "source": [
    "# Exercitiul 2\n",
    "# a) \n",
    "\n",
    "reset()\n",
    "x = var('x')\n",
    "y = function('y')(x)\n",
    "\n",
    "eqd = x^2 * diff(y, x, 2) + 2 * x * diff(y, x) - 2 * y == 0\n",
    "show(desolve(eqd, y))"
   ]
  },
  {
   "cell_type": "code",
   "execution_count": 13,
   "metadata": {},
   "outputs": [
    {
     "data": {
      "text/html": [
       "<html><script type=\"math/tex; mode=display\">\\newcommand{\\Bold}[1]{\\mathbf{#1}}5 \\, x + \\frac{1}{x^{2}}</script></html>"
      ],
      "text/latex": [
       "\\begin{math}\n",
       "\\newcommand{\\Bold}[1]{\\mathbf{#1}}5 \\, x + \\frac{1}{x^{2}}\n",
       "\\end{math}"
      ],
      "text/plain": [
       "5*x + 1/x^2"
      ]
     },
     "metadata": {},
     "output_type": "display_data"
    },
    {
     "data": {
      "image/png": "[encoded data removed]",
      "text/plain": [
       "Graphics object consisting of 1 graphics primitive"
      ]
     },
     "execution_count": 13,
     "metadata": {},
     "output_type": "execute_result"
    }
   ],
   "source": [
    "# b)\n",
    "\n",
    "sol = desolve(eqd, y, ics = [1, 6, 3])\n",
    "show(sol)\n",
    "plot(sol, x, 1/2, 2)"
   ]
  },
  {
   "cell_type": "code",
   "execution_count": 52,
   "metadata": {},
   "outputs": [
    {
     "data": {
      "text/html": [
       "<html><script type=\"math/tex; mode=display\">\\newcommand{\\Bold}[1]{\\mathbf{#1}}\\left[s = 0, s = 2\\right]</script></html>"
      ],
      "text/latex": [
       "\\begin{math}\n",
       "\\newcommand{\\Bold}[1]{\\mathbf{#1}}\\left[s = 0, s = 2\\right]\n",
       "\\end{math}"
      ],
      "text/plain": [
       "[s == 0, s == 2]"
      ]
     },
     "metadata": {},
     "output_type": "display_data"
    }
   ],
   "source": [
    "# Exercitiul 3\n",
    "# a)\n",
    "\n",
    "reset()\n",
    "t = var('t')\n",
    "x = function('x')(t)\n",
    "\n",
    "s = var('s')\n",
    "f = function('f')(s)\n",
    "f(s) = s^2 - 2 * s\n",
    "\n",
    "sol = solve(f(s) == 0, s)\n",
    "show(sol)"
   ]
  },
  {
   "cell_type": "code",
   "execution_count": 16,
   "metadata": {},
   "outputs": [
    {
     "name": "stdout",
     "output_type": "stream",
     "text": [
      "Punctul 0 este local asimptotic stabil - derivata e -2\n",
      "Punctul 2 este instabil - derivata e 2\n"
     ]
    }
   ],
   "source": [
    "x1 = sol[0].rhs()\n",
    "x2 = sol[1].rhs()\n",
    "\n",
    "if diff(f, s)(x1) < 0: print(\"Punctul\", x1, \"este local asimptotic stabil - derivata e\", diff(f, s)(x1))\n",
    "elif diff(f, s)(x1) > 0: print(\"Punctul\", x1, \"este instabil - derivata e\", diff(f, s)(x1))  \n",
    "    \n",
    "if diff(f, s)(x2) < 0: print(\"Punctul\", x2, \"este local asimptotic stabil - derivata e\", diff(f, s)(x2))\n",
    "elif diff(f, s)(x2) > 0: print(\"Punctul\", x2, \"este instabil - derivata e\", diff(f, s)(x2)) \n",
    "        "
   ]
  },
  {
   "cell_type": "code",
   "execution_count": 54,
   "metadata": {},
   "outputs": [
    {
     "data": {
      "image/png": "[encoded data removed]",
      "text/plain": [
       "Graphics object consisting of 7 graphics primitives"
      ]
     },
     "metadata": {},
     "output_type": "display_data"
    }
   ],
   "source": [
    "# b)\n",
    "\n",
    "eqd = diff(x, t) == f(x)\n",
    "\n",
    "g = desolve_rk4(eqd, x, [0, -2], step = 0.1, end_points = [0, 2], output = 'plot')\n",
    "for i in [-1..4]:\n",
    "    g = g + desolve_rk4(eqd, x, [0, i], step = 0.1, end_points = [0, 2], output = 'plot')\n",
    "    \n",
    "g.show(ymin = -3, ymax = 10)    \n"
   ]
  },
  {
   "cell_type": "code",
   "execution_count": 68,
   "metadata": {},
   "outputs": [
    {
     "data": {
      "text/plain": [
       "[[x == I*sqrt(3) - 1, y == -1/2*I*sqrt(3) - 1/2], [x == -I*sqrt(3) - 1, y == 1/2*I*sqrt(3) - 1/2], [x == 2, y == 1], [x == 0, y == 0]]"
      ]
     },
     "execution_count": 68,
     "metadata": {},
     "output_type": "execute_result"
    }
   ],
   "source": [
    "# Exercitiul 4\n",
    "# a)\n",
    "\n",
    "reset()\n",
    "\n",
    "t = var('t')\n",
    "x = var('x')\n",
    "y = var('y')\n",
    "\n",
    "f1(x, y) = -1 * x + 2 * (y^2)\n",
    "f2(x, y) = -4 * y + x^2\n",
    "\n",
    "EquilP = solve([f1(x, y) == 0, f2(x, y) == 0], x, y)\n",
    "EquilP"
   ]
  },
  {
   "cell_type": "code",
   "execution_count": 59,
   "metadata": {},
   "outputs": [
    {
     "data": {
      "text/plain": [
       "[ -1 4*y]\n",
       "[2*x  -4]"
      ]
     },
     "execution_count": 59,
     "metadata": {},
     "output_type": "execute_result"
    }
   ],
   "source": [
    "# b) \n",
    "\n",
    "J = jacobian((f1(x, y), f2(x, y)), (x, y))\n",
    "J"
   ]
  },
  {
   "cell_type": "code",
   "execution_count": 60,
   "metadata": {},
   "outputs": [
    {
     "data": {
      "text/plain": [
       "[              -1 -2*I*sqrt(3) - 2]\n",
       "[ 2*I*sqrt(3) - 2               -4]"
      ]
     },
     "execution_count": 60,
     "metadata": {},
     "output_type": "execute_result"
    }
   ],
   "source": [
    "# punctul (I*sqrt(3) - 1, -1/2*I*sqrt(3) - 1/2)\n",
    "\n",
    "J(x = I*sqrt(3) - 1, y = -1/2*I*sqrt(3) - 1/2)\n"
   ]
  },
  {
   "cell_type": "code",
   "execution_count": 61,
   "metadata": {},
   "outputs": [
    {
     "data": {
      "text/plain": [
       "[-1/2*sqrt(73) - 5/2, 1/2*sqrt(73) - 5/2]"
      ]
     },
     "execution_count": 61,
     "metadata": {},
     "output_type": "execute_result"
    }
   ],
   "source": [
    "J(x = I*sqrt(3) - 1, y = -1/2*I*sqrt(3) - 1/2).eigenvalues()\n",
    "\n",
    "# punctul este instabil, de tip sa"
   ]
  },
  {
   "cell_type": "code",
   "execution_count": 62,
   "metadata": {},
   "outputs": [
    {
     "data": {
      "text/plain": [
       "[              -1  2*I*sqrt(3) - 2]\n",
       "[-2*I*sqrt(3) - 2               -4]"
      ]
     },
     "execution_count": 62,
     "metadata": {},
     "output_type": "execute_result"
    }
   ],
   "source": [
    "# punctul (-I*sqrt(3) - 1, 1/2*I*sqrt(3) - 1/2)\n",
    "\n",
    "J(x = -I*sqrt(3) - 1, y = 1/2*I*sqrt(3) - 1/2)\n"
   ]
  },
  {
   "cell_type": "code",
   "execution_count": 63,
   "metadata": {},
   "outputs": [
    {
     "data": {
      "text/plain": [
       "[-1/2*sqrt(73) - 5/2, 1/2*sqrt(73) - 5/2]"
      ]
     },
     "execution_count": 63,
     "metadata": {},
     "output_type": "execute_result"
    }
   ],
   "source": [
    "J(x = -I*sqrt(3) - 1, y = 1/2*I*sqrt(3) - 1/2).eigenvalues()\n",
    "\n",
    "# punctul este instabil, de tip sa"
   ]
  },
  {
   "cell_type": "code",
   "execution_count": 64,
   "metadata": {},
   "outputs": [
    {
     "data": {
      "text/plain": [
       "[-1  4]\n",
       "[ 4 -4]"
      ]
     },
     "execution_count": 64,
     "metadata": {},
     "output_type": "execute_result"
    }
   ],
   "source": [
    "# punctul (2, 1)\n",
    "\n",
    "J(x = 2, y = 1)\n"
   ]
  },
  {
   "cell_type": "code",
   "execution_count": 65,
   "metadata": {},
   "outputs": [
    {
     "data": {
      "text/plain": [
       "[-1/2*sqrt(73) - 5/2, 1/2*sqrt(73) - 5/2]"
      ]
     },
     "execution_count": 65,
     "metadata": {},
     "output_type": "execute_result"
    }
   ],
   "source": [
    "J(x = 2, y = 1).eigenvalues()\n",
    "\n",
    "# punctul este instabil, de tip sa"
   ]
  },
  {
   "cell_type": "code",
   "execution_count": 66,
   "metadata": {},
   "outputs": [
    {
     "data": {
      "text/plain": [
       "[-1  0]\n",
       "[ 0 -4]"
      ]
     },
     "execution_count": 66,
     "metadata": {},
     "output_type": "execute_result"
    }
   ],
   "source": [
    "# punctul (0, 0)\n",
    "\n",
    "J(x = 0, y = 0)\n"
   ]
  },
  {
   "cell_type": "code",
   "execution_count": 67,
   "metadata": {},
   "outputs": [
    {
     "data": {
      "text/plain": [
       "[-4, -1]"
      ]
     },
     "execution_count": 67,
     "metadata": {},
     "output_type": "execute_result"
    }
   ],
   "source": [
    "J(x = 0, y = 0).eigenvalues()\n",
    "\n",
    "# punctul este asimptotic stabil, de tip nod"
   ]
  }
 ],
 "metadata": {
  "kernelspec": {
   "display_name": "SageMath 9.2",
   "language": "sage",
   "name": "sagemath"
  },
  "language_info": {
   "codemirror_mode": {
    "name": "ipython",
    "version": 3
   },
   "file_extension": ".py",
   "mimetype": "text/x-python",
   "name": "python",
   "nbconvert_exporter": "python",
   "pygments_lexer": "ipython3",
   "version": "3.7.7"
  }
 },
 "nbformat": 4,
 "nbformat_minor": 4
}
