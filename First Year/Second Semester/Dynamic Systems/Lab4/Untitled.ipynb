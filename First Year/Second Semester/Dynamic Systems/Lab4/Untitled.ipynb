{
 "cells": [
  {
   "cell_type": "code",
   "execution_count": 1,
   "metadata": {},
   "outputs": [
    {
     "data": {
      "text/html": [
       "<html><script type=\"math/tex; mode=display\">\\newcommand{\\Bold}[1]{\\mathbf{#1}}\\left( t, k, x_{0} \\right) \\ {\\mapsto} \\ x_{0} e^{\\left(-k t\\right)}</script></html>"
      ],
      "text/latex": [
       "\\begin{math}\n",
       "\\newcommand{\\Bold}[1]{\\mathbf{#1}}\\left( t, k, x_{0} \\right) \\ {\\mapsto} \\ x_{0} e^{\\left(-k t\\right)}\n",
       "\\end{math}"
      ],
      "text/plain": [
       "(t, k, x0) |--> x0*e^(-k*t)"
      ]
     },
     "metadata": {},
     "output_type": "display_data"
    }
   ],
   "source": [
    "k = var('k')\n",
    "t = var('t')\n",
    "x0 = var('x0')\n",
    "x = function('x')(t)\n",
    "eqd = diff(x, t) == -k * x\n",
    "sol(t, k, x0) = desolve(eqd, [x, t], ics = [0, x0])\n",
    "show(sol)"
   ]
  },
  {
   "cell_type": "code",
   "execution_count": 66,
   "metadata": {},
   "outputs": [
    {
     "data": {
      "image/png": "[encoded data removed]",
      "text/plain": [
       "Graphics object consisting of 2 graphics primitives"
      ]
     },
     "execution_count": 66,
     "metadata": {},
     "output_type": "execute_result"
    }
   ],
   "source": [
    "plot([sol(t, 0.1, 10), sol(t, 0.2, 10)], t, 0, 30)"
   ]
  },
  {
   "cell_type": "code",
   "execution_count": 2,
   "metadata": {},
   "outputs": [
    {
     "data": {
      "text/plain": [
       "[k == log(2)/t12]"
      ]
     },
     "execution_count": 2,
     "metadata": {},
     "output_type": "execute_result"
    }
   ],
   "source": [
    "t12 = var('t12')\n",
    "eq = sol(t12, k, x0) == x0 / 2\n",
    "solve(eq, k)"
   ]
  },
  {
   "cell_type": "code",
   "execution_count": 68,
   "metadata": {},
   "outputs": [
    {
     "data": {
      "text/html": [
       "<html><script type=\"math/tex; mode=display\">\\newcommand{\\Bold}[1]{\\mathbf{#1}}\\frac{1}{5730} \\, \\log\\left(2\\right)</script></html>"
      ],
      "text/latex": [
       "\\begin{math}\n",
       "\\newcommand{\\Bold}[1]{\\mathbf{#1}}\\frac{1}{5730} \\, \\log\\left(2\\right)\n",
       "\\end{math}"
      ],
      "text/plain": [
       "1/5730*log(2)"
      ]
     },
     "metadata": {},
     "output_type": "display_data"
    }
   ],
   "source": [
    "s = solve(eq, k)\n",
    "kk(t12) = s[0].rhs()\n",
    "show(kk(5730))"
   ]
  },
  {
   "cell_type": "code",
   "execution_count": 74,
   "metadata": {},
   "outputs": [
    {
     "data": {
      "text/plain": [
       "1/5730*log(2)"
      ]
     },
     "execution_count": 74,
     "metadata": {},
     "output_type": "execute_result"
    }
   ],
   "source": [
    "k1 = var('k1')\n",
    "k1 = kk(5730)"
   ]
  },
  {
   "cell_type": "code",
   "execution_count": 75,
   "metadata": {},
   "outputs": [
    {
     "data": {
      "text/html": [
       "<html><script type=\"math/tex; mode=display\">\\newcommand{\\Bold}[1]{\\mathbf{#1}}\\left[T = \\frac{5730 \\, {\\left(2 \\, \\log\\left(2\\right) - \\log\\left(\\frac{4}{5}\\right)\\right)}}{\\log\\left(2\\right)}\\right]</script></html>"
      ],
      "text/latex": [
       "\\begin{math}\n",
       "\\newcommand{\\Bold}[1]{\\mathbf{#1}}\\left[T = \\frac{5730 \\, {\\left(2 \\, \\log\\left(2\\right) - \\log\\left(\\frac{4}{5}\\right)\\right)}}{\\log\\left(2\\right)}\\right]\n",
       "\\end{math}"
      ],
      "text/plain": [
       "[T == 5730*(2*log(2) - log(4/5))/log(2)]"
      ]
     },
     "metadata": {},
     "output_type": "display_data"
    }
   ],
   "source": [
    "T = var('T')\n",
    "eq2 = sol(T, k1, 100) == 20\n",
    "show(solve(eq2, T))"
   ]
  },
  {
   "cell_type": "code",
   "execution_count": 76,
   "metadata": {},
   "outputs": [
    {
     "data": {
      "text/plain": [
       "13304.6479837046"
      ]
     },
     "execution_count": 76,
     "metadata": {},
     "output_type": "execute_result"
    }
   ],
   "source": [
    "S = solve(eq2, T)\n",
    "numerical_approx(S[0].rhs())"
   ]
  },
  {
   "cell_type": "code",
   "execution_count": 82,
   "metadata": {},
   "outputs": [
    {
     "data": {
      "text/html": [
       "<html><script type=\"math/tex; mode=display\">\\newcommand{\\Bold}[1]{\\mathbf{#1}}\\left[\\left[-25 \\cdot 2^{-\\frac{1}{5730} \\, T + 2} + 93.021 > 0, 25 \\cdot 2^{-\\frac{1}{5730} \\, T + 2} - 91.57 = 0\\right], \\left[-25 \\cdot 2^{-\\frac{1}{5730} \\, T + 2} + 93.021 > 0, 25 \\cdot 2^{-\\frac{1}{5730} \\, T + 2} - 91.57 > 0\\right], \\left[25 \\cdot 2^{-\\frac{1}{5730} \\, T + 2} - 93.021 = 0, 25 \\cdot 2^{-\\frac{1}{5730} \\, T + 2} - 91.57 = 0\\right], \\left[25 \\cdot 2^{-\\frac{1}{5730} \\, T + 2} - 93.021 = 0, 25 \\cdot 2^{-\\frac{1}{5730} \\, T + 2} - 91.57 > 0\\right]\\right]</script></html>"
      ],
      "text/latex": [
       "\\begin{math}\n",
       "\\newcommand{\\Bold}[1]{\\mathbf{#1}}\\left[\\left[-25 \\cdot 2^{-\\frac{1}{5730} \\, T + 2} + 93.021 > 0, 25 \\cdot 2^{-\\frac{1}{5730} \\, T + 2} - 91.57 = 0\\right], \\left[-25 \\cdot 2^{-\\frac{1}{5730} \\, T + 2} + 93.021 > 0, 25 \\cdot 2^{-\\frac{1}{5730} \\, T + 2} - 91.57 > 0\\right], \\left[25 \\cdot 2^{-\\frac{1}{5730} \\, T + 2} - 93.021 = 0, 25 \\cdot 2^{-\\frac{1}{5730} \\, T + 2} - 91.57 = 0\\right], \\left[25 \\cdot 2^{-\\frac{1}{5730} \\, T + 2} - 93.021 = 0, 25 \\cdot 2^{-\\frac{1}{5730} \\, T + 2} - 91.57 > 0\\right]\\right]\n",
       "\\end{math}"
      ],
      "text/plain": [
       "[[-25*2^(-1/5730*T + 2) + 93.021 > 0, 25*2^(-1/5730*T + 2) - 91.57 == 0], [-25*2^(-1/5730*T + 2) + 93.021 > 0, 25*2^(-1/5730*T + 2) - 91.57 > 0], [25*2^(-1/5730*T + 2) - 93.021 == 0, 25*2^(-1/5730*T + 2) - 91.57 == 0], [25*2^(-1/5730*T + 2) - 93.021 == 0, 25*2^(-1/5730*T + 2) - 91.57 > 0]]"
      ]
     },
     "metadata": {},
     "output_type": "display_data"
    }
   ],
   "source": [
    "eq3 = sol(T, k1, 100) >= 91.57\n",
    "eq4 = sol(T, k1, 100) <= 93.021\n",
    "S = solve([eq3, eq4], T)\n",
    "show(S)"
   ]
  },
  {
   "cell_type": "code",
   "execution_count": 85,
   "metadata": {},
   "outputs": [
    {
     "data": {
      "text/html": [
       "<html><script type=\"math/tex; mode=display\">\\newcommand{\\Bold}[1]{\\mathbf{#1}}\\left( t, k, T_{0}, \\mathit{Tm} \\right) \\ {\\mapsto} \\ {\\left(\\mathit{Tm} e^{\\left(k t\\right)} + T_{0} - \\mathit{Tm}\\right)} e^{\\left(-k t\\right)}</script></html>"
      ],
      "text/latex": [
       "\\begin{math}\n",
       "\\newcommand{\\Bold}[1]{\\mathbf{#1}}\\left( t, k, T_{0}, \\mathit{Tm} \\right) \\ {\\mapsto} \\ {\\left(\\mathit{Tm} e^{\\left(k t\\right)} + T_{0} - \\mathit{Tm}\\right)} e^{\\left(-k t\\right)}\n",
       "\\end{math}"
      ],
      "text/plain": [
       "(t, k, T0, Tm) |--> (Tm*e^(k*t) + T0 - Tm)*e^(-k*t)"
      ]
     },
     "metadata": {},
     "output_type": "display_data"
    },
    {
     "data": {
      "image/png": "[encoded data removed]",
      "text/plain": [
       "Graphics object consisting of 3 graphics primitives"
      ]
     },
     "execution_count": 85,
     "metadata": {},
     "output_type": "execute_result"
    }
   ],
   "source": [
    "T = function('T')(t)\n",
    "T0 = var('T0')\n",
    "Tm = var('Tm')\n",
    "eqd = diff(T, t) == -k * (T(t) - Tm)\n",
    "sol(t, k, T0, Tm) = desolve(eqd, [T, t], ics = [0, T0])\n",
    "show(sol)\n",
    "plot([sol(t, 1, 10, 35), sol(t, 1, 5, 70), sol(t, 1, 5, -30)], t, 0, 5)"
   ]
  },
  {
   "cell_type": "code",
   "execution_count": 93,
   "metadata": {},
   "outputs": [
    {
     "data": {
      "text/html": [
       "<html><script type=\"math/tex; mode=display\">\\newcommand{\\Bold}[1]{\\mathbf{#1}}\\log\\left(\\frac{1322}{1311}\\right)</script></html>"
      ],
      "text/latex": [
       "\\begin{math}\n",
       "\\newcommand{\\Bold}[1]{\\mathbf{#1}}\\log\\left(\\frac{1322}{1311}\\right)\n",
       "\\end{math}"
      ],
      "text/plain": [
       "log(1322/1311)"
      ]
     },
     "metadata": {},
     "output_type": "display_data"
    },
    {
     "data": {
      "text/html": [
       "<html><script type=\"math/tex; mode=display\">\\newcommand{\\Bold}[1]{\\mathbf{#1}}\\left[1322^{\\mathit{td}} = \\frac{750}{661} \\cdot 1311^{\\mathit{td}}\\right]</script></html>"
      ],
      "text/latex": [
       "\\begin{math}\n",
       "\\newcommand{\\Bold}[1]{\\mathbf{#1}}\\left[1322^{\\mathit{td}} = \\frac{750}{661} \\cdot 1311^{\\mathit{td}}\\right]\n",
       "\\end{math}"
      ],
      "text/plain": [
       "[1322^td == 750/661*1311^td]"
      ]
     },
     "metadata": {},
     "output_type": "display_data"
    }
   ],
   "source": [
    "td = var('td')\n",
    "eqd3 = sol(1, k, 34.22, 21) == 34.11\n",
    "s = solve(eqd3, k)\n",
    "kk = s[0].rhs()\n",
    "show(kk)\n",
    "\n",
    "eqd2 = sol(td, kk, 36, 21) == 34.22\n",
    "show(solve(eqd2, td))\n"
   ]
  },
  {
   "cell_type": "code",
   "execution_count": 95,
   "metadata": {},
   "outputs": [
    {
     "data": {
      "text/plain": [
       "15.118043520273046"
      ]
     },
     "execution_count": 95,
     "metadata": {},
     "output_type": "execute_result"
    }
   ],
   "source": [
    "find_root(eqd2, 0, 20)"
   ]
  },
  {
   "cell_type": "code",
   "execution_count": null,
   "metadata": {},
   "outputs": [],
   "source": []
  }
 ],
 "metadata": {
  "kernelspec": {
   "display_name": "SageMath 9.2",
   "language": "sage",
   "name": "sagemath"
  },
  "language_info": {
   "codemirror_mode": {
    "name": "ipython",
    "version": 3
   },
   "file_extension": ".py",
   "mimetype": "text/x-python",
   "name": "python",
   "nbconvert_exporter": "python",
   "pygments_lexer": "ipython3",
   "version": "3.7.7"
  }
 },
 "nbformat": 4,
 "nbformat_minor": 4
}
